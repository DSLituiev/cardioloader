{
 "cells": [
  {
   "cell_type": "code",
   "execution_count": 1,
   "metadata": {},
   "outputs": [],
   "source": [
    "import os\n",
    "import numpy as np\n",
    "import pydicom\n",
    "import cv2\n",
    "import pandas as pd\n",
    "import re\n",
    "from warnings import warn"
   ]
  },
  {
   "cell_type": "code",
   "execution_count": 2,
   "metadata": {},
   "outputs": [],
   "source": [
    "import parsing"
   ]
  },
  {
   "cell_type": "code",
   "execution_count": 3,
   "metadata": {},
   "outputs": [],
   "source": [
    "import matplotlib.pyplot as plt\n",
    "%matplotlib inline"
   ]
  },
  {
   "cell_type": "code",
   "execution_count": 4,
   "metadata": {},
   "outputs": [],
   "source": [
    "class Dir():\n",
    "    '''base class for directories\n",
    "    methods:\n",
    "        parse_name -- to be defined in subclasses\n",
    "    \n",
    "    properties:\n",
    "        content    -- a pandas.Series of filenames indexed by slice number\n",
    "    '''\n",
    "    def __init__(self, path):\n",
    "        self.path = path\n",
    "    \n",
    "    def __repr__(self):\n",
    "        return 'Directory: {}'.format(self.path)\n",
    "        \n",
    "\n",
    "    @property\n",
    "    def content(self):\n",
    "        self._content = self._list_to_series()\n",
    "        self._content = self._content.map(lambda x: os.path.join(self.path, x))\n",
    "        return self._content\n",
    "\n",
    "    def __len__(self):\n",
    "        return len(self.content)\n",
    "    \n",
    "    def _list_to_series(self,):\n",
    "        'returns a pandas.Series of filenames indexed by slice number'\n",
    "        if not hasattr(self, 'series_name'):\n",
    "            series_name = os.path.basename(os.path.dirname(self.path))\n",
    "\n",
    "        ser = pd.Series(os.listdir(self.path))\n",
    "        ser.index = ser.map(self.parse_name).tolist()\n",
    "        ser.name = series_name\n",
    "        return ser\n",
    "\n",
    "    @property\n",
    "    def content(self):\n",
    "        self._content = self._list_to_series()\n",
    "        self._content = self._content.map(lambda x: os.path.join(self.path, x))\n",
    "        return self._content\n",
    "\n",
    "    \n",
    "class DicomDir(Dir):\n",
    "    @classmethod\n",
    "    def parse_name(cls, fn_dcm):\n",
    "        matches = re.match('([\\d]+).dcm', fn_dcm)\n",
    "        if matches is not None:\n",
    "            slice_num = matches.groups()[0]\n",
    "            slice_num = int(slice_num)\n",
    "            return slice_num\n",
    "        else:\n",
    "            warn(f'unrecognized file:\\t{fn_dcm}')\n",
    "            return None\n",
    "\n",
    "        \n",
    "class ContourDir(Dir):\n",
    "    @classmethod\n",
    "    def parse_name(cls, fn_contour):\n",
    "        matches = re.match('IM-[\\d]+-([\\d]+)-[a-z]contour-manual.txt', fn_contour)\n",
    "        if matches is not None:\n",
    "            slice_num = matches.groups()[0]\n",
    "            slice_num = int(slice_num)\n",
    "            return slice_num\n",
    "        else:\n",
    "            warn(f'unrecognized file:\\t{fn_contour}')\n",
    "            return None"
   ]
  },
  {
   "cell_type": "code",
   "execution_count": 5,
   "metadata": {},
   "outputs": [],
   "source": [
    "def match_case_filenames(dirname_dicom, \n",
    "                         dirname_i_contour):\n",
    "    filenames_dicom = DicomDir(dirname_dicom).content\n",
    "    filenames_icontour = ContourDir(dirname_i_contour).content\n",
    "    filenames_matched = pd.concat([filenames_dicom, filenames_icontour],\n",
    "                                 axis=1, join='inner')\n",
    "    if len(filenames_matched)< len(filenames_icontour):\n",
    "        warn(f'some dicom slices are missing: {filenames_matched.shape[0]} matches out of {filenames_icontour.shape[0]} contours')\n",
    "    \n",
    "    filenames_matched.index.name = 'slice_id'\n",
    "    filenames_matched.reset_index(inplace=True)\n",
    "    filenames_matched.loc[:,'original_id'] = vv['original_id']\n",
    "    return filenames_matched"
   ]
  },
  {
   "cell_type": "code",
   "execution_count": 6,
   "metadata": {},
   "outputs": [],
   "source": [
    "def read_slice_with_annotations(slicedict):\n",
    "    dcm = parsing.parse_dicom_file(slicedict['dicoms'])\n",
    "    height, width = dcm['pixel_data'].shape\n",
    "    \n",
    "    contour = parsing.parse_contour_file(slicedict['i-contours'])\n",
    "    mask = parsing.poly_to_mask(contour, width, height)\n",
    "\n",
    "    return {'image': dcm['pixel_data'], \n",
    "            'imask': mask,\n",
    "            'icontour': contour}"
   ]
  },
  {
   "cell_type": "code",
   "execution_count": 7,
   "metadata": {
    "scrolled": true
   },
   "outputs": [
    {
     "name": "stdout",
     "output_type": "stream",
     "text": [
      "\u001b[1m\u001b[36mcontourfiles\u001b[m\u001b[m \u001b[1m\u001b[36mdicoms\u001b[m\u001b[m       link.csv\r\n"
     ]
    }
   ],
   "source": [
    "!ls final_data/"
   ]
  },
  {
   "cell_type": "code",
   "execution_count": 8,
   "metadata": {},
   "outputs": [
    {
     "data": {
      "text/plain": [
       "'final_data/link.csv'"
      ]
     },
     "execution_count": 8,
     "metadata": {},
     "output_type": "execute_result"
    }
   ],
   "source": [
    "dir_data = 'final_data'\n",
    "fn_link = f'{dir_data}/link.csv'\n",
    "fn_link"
   ]
  },
  {
   "cell_type": "code",
   "execution_count": 9,
   "metadata": {},
   "outputs": [
    {
     "data": {
      "text/html": [
       "<div>\n",
       "<style scoped>\n",
       "    .dataframe tbody tr th:only-of-type {\n",
       "        vertical-align: middle;\n",
       "    }\n",
       "\n",
       "    .dataframe tbody tr th {\n",
       "        vertical-align: top;\n",
       "    }\n",
       "\n",
       "    .dataframe thead th {\n",
       "        text-align: right;\n",
       "    }\n",
       "</style>\n",
       "<table border=\"1\" class=\"dataframe\">\n",
       "  <thead>\n",
       "    <tr style=\"text-align: right;\">\n",
       "      <th></th>\n",
       "      <th>patient_id</th>\n",
       "      <th>original_id</th>\n",
       "    </tr>\n",
       "  </thead>\n",
       "  <tbody>\n",
       "    <tr>\n",
       "      <th>0</th>\n",
       "      <td>SCD0000101</td>\n",
       "      <td>SC-HF-I-1</td>\n",
       "    </tr>\n",
       "    <tr>\n",
       "      <th>1</th>\n",
       "      <td>SCD0000201</td>\n",
       "      <td>SC-HF-I-2</td>\n",
       "    </tr>\n",
       "    <tr>\n",
       "      <th>2</th>\n",
       "      <td>SCD0000301</td>\n",
       "      <td>SC-HF-I-4</td>\n",
       "    </tr>\n",
       "    <tr>\n",
       "      <th>3</th>\n",
       "      <td>SCD0000401</td>\n",
       "      <td>SC-HF-I-5</td>\n",
       "    </tr>\n",
       "    <tr>\n",
       "      <th>4</th>\n",
       "      <td>SCD0000501</td>\n",
       "      <td>SC-HF-I-6</td>\n",
       "    </tr>\n",
       "  </tbody>\n",
       "</table>\n",
       "</div>"
      ],
      "text/plain": [
       "   patient_id original_id\n",
       "0  SCD0000101   SC-HF-I-1\n",
       "1  SCD0000201   SC-HF-I-2\n",
       "2  SCD0000301   SC-HF-I-4\n",
       "3  SCD0000401   SC-HF-I-5\n",
       "4  SCD0000501   SC-HF-I-6"
      ]
     },
     "execution_count": 9,
     "metadata": {},
     "output_type": "execute_result"
    }
   ],
   "source": [
    "metadata = pd.read_csv(fn_link)\n",
    "print( f'{metadata.shape[0]} series parsed')\n",
    "metadata.head()"
   ]
  },
  {
   "cell_type": "code",
   "execution_count": 10,
   "metadata": {},
   "outputs": [
    {
     "name": "stdout",
     "output_type": "stream",
     "text": [
      "SCD0000101\r\n",
      "SCD0000201\r\n",
      "SCD0000301\r\n",
      "SCD0000401\r\n",
      "SCD0000501\r\n"
     ]
    }
   ],
   "source": [
    "!ls {dir_data}/dicoms | head -n5"
   ]
  },
  {
   "cell_type": "code",
   "execution_count": 11,
   "metadata": {
    "scrolled": true
   },
   "outputs": [
    {
     "name": "stdout",
     "output_type": "stream",
     "text": [
      "final_data/contourfiles/SC-HF-I-1/i-contours:\r\n",
      "IM-0001-0048-icontour-manual.txt\r\n",
      "IM-0001-0059-icontour-manual.txt\r\n",
      "IM-0001-0068-icontour-manual.txt\r\n",
      "IM-0001-0079-icontour-manual.txt\r\n"
     ]
    }
   ],
   "source": [
    "!ls {dir_data}/contourfiles/*/i-contours | head -n5"
   ]
  },
  {
   "cell_type": "code",
   "execution_count": 12,
   "metadata": {},
   "outputs": [
    {
     "name": "stdout",
     "output_type": "stream",
     "text": [
      "96 files parsed\n"
     ]
    }
   ],
   "source": [
    "filenames = []\n",
    "\n",
    "for ii, vv in metadata.iterrows():\n",
    "    dirname_dicom =  '{}/dicoms/{}'.format(dir_data, vv['patient_id'])\n",
    "    dirname_contours =  '{}/contourfiles/{}'.format(dir_data, vv['original_id'])\n",
    "    dirname_i_contour =  '{}/i-contours/'.format(dirname_contours)\n",
    "#     dirname_o_contour =  '{}/o-contours/'.format(dirname_contours)\n",
    "    dir_filenames = match_case_filenames(dirname_dicom, \n",
    "                         dirname_i_contour)\n",
    "    filenames.append(dir_filenames)\n",
    "    \n",
    "filenames = pd.concat(filenames).reset_index(drop=True)\n",
    "print( f'{filenames.shape[0]} files parsed')"
   ]
  },
  {
   "cell_type": "code",
   "execution_count": 13,
   "metadata": {},
   "outputs": [
    {
     "data": {
      "text/html": [
       "<div>\n",
       "<style scoped>\n",
       "    .dataframe tbody tr th:only-of-type {\n",
       "        vertical-align: middle;\n",
       "    }\n",
       "\n",
       "    .dataframe tbody tr th {\n",
       "        vertical-align: top;\n",
       "    }\n",
       "\n",
       "    .dataframe thead th {\n",
       "        text-align: right;\n",
       "    }\n",
       "</style>\n",
       "<table border=\"1\" class=\"dataframe\">\n",
       "  <thead>\n",
       "    <tr style=\"text-align: right;\">\n",
       "      <th></th>\n",
       "      <th>slice_id</th>\n",
       "      <th>dicoms</th>\n",
       "      <th>i-contours</th>\n",
       "      <th>original_id</th>\n",
       "    </tr>\n",
       "  </thead>\n",
       "  <tbody>\n",
       "    <tr>\n",
       "      <th>0</th>\n",
       "      <td>128</td>\n",
       "      <td>final_data/dicoms/SCD0000101/128.dcm</td>\n",
       "      <td>final_data/contourfiles/SC-HF-I-1/i-contours/I...</td>\n",
       "      <td>SC-HF-I-1</td>\n",
       "    </tr>\n",
       "    <tr>\n",
       "      <th>1</th>\n",
       "      <td>139</td>\n",
       "      <td>final_data/dicoms/SCD0000101/139.dcm</td>\n",
       "      <td>final_data/contourfiles/SC-HF-I-1/i-contours/I...</td>\n",
       "      <td>SC-HF-I-1</td>\n",
       "    </tr>\n",
       "    <tr>\n",
       "      <th>2</th>\n",
       "      <td>148</td>\n",
       "      <td>final_data/dicoms/SCD0000101/148.dcm</td>\n",
       "      <td>final_data/contourfiles/SC-HF-I-1/i-contours/I...</td>\n",
       "      <td>SC-HF-I-1</td>\n",
       "    </tr>\n",
       "    <tr>\n",
       "      <th>3</th>\n",
       "      <td>48</td>\n",
       "      <td>final_data/dicoms/SCD0000101/48.dcm</td>\n",
       "      <td>final_data/contourfiles/SC-HF-I-1/i-contours/I...</td>\n",
       "      <td>SC-HF-I-1</td>\n",
       "    </tr>\n",
       "    <tr>\n",
       "      <th>4</th>\n",
       "      <td>188</td>\n",
       "      <td>final_data/dicoms/SCD0000101/188.dcm</td>\n",
       "      <td>final_data/contourfiles/SC-HF-I-1/i-contours/I...</td>\n",
       "      <td>SC-HF-I-1</td>\n",
       "    </tr>\n",
       "  </tbody>\n",
       "</table>\n",
       "</div>"
      ],
      "text/plain": [
       "   slice_id                                dicoms  \\\n",
       "0       128  final_data/dicoms/SCD0000101/128.dcm   \n",
       "1       139  final_data/dicoms/SCD0000101/139.dcm   \n",
       "2       148  final_data/dicoms/SCD0000101/148.dcm   \n",
       "3        48   final_data/dicoms/SCD0000101/48.dcm   \n",
       "4       188  final_data/dicoms/SCD0000101/188.dcm   \n",
       "\n",
       "                                          i-contours original_id  \n",
       "0  final_data/contourfiles/SC-HF-I-1/i-contours/I...   SC-HF-I-1  \n",
       "1  final_data/contourfiles/SC-HF-I-1/i-contours/I...   SC-HF-I-1  \n",
       "2  final_data/contourfiles/SC-HF-I-1/i-contours/I...   SC-HF-I-1  \n",
       "3  final_data/contourfiles/SC-HF-I-1/i-contours/I...   SC-HF-I-1  \n",
       "4  final_data/contourfiles/SC-HF-I-1/i-contours/I...   SC-HF-I-1  "
      ]
     },
     "execution_count": 13,
     "metadata": {},
     "output_type": "execute_result"
    }
   ],
   "source": [
    "filenames[:5]"
   ]
  },
  {
   "cell_type": "markdown",
   "metadata": {},
   "source": [
    "### sanity check: number of parsed files"
   ]
  },
  {
   "cell_type": "code",
   "execution_count": 14,
   "metadata": {},
   "outputs": [
    {
     "name": "stdout",
     "output_type": "stream",
     "text": [
      "      96\r\n"
     ]
    }
   ],
   "source": [
    "!ls {dir_data}/contourfiles/*/i-contours/*txt | wc -l"
   ]
  },
  {
   "cell_type": "code",
   "execution_count": 15,
   "metadata": {},
   "outputs": [
    {
     "name": "stdout",
     "output_type": "stream",
     "text": [
      "0\n",
      "1\n",
      "2\n",
      "3\n",
      "4\n",
      "5\n",
      "6\n",
      "7\n",
      "8\n",
      "9\n",
      "10\n",
      "11\n",
      "12\n",
      "13\n",
      "14\n",
      "15\n",
      "16\n",
      "17\n",
      "18\n",
      "19\n",
      "20\n",
      "21\n",
      "22\n",
      "23\n",
      "24\n",
      "25\n",
      "26\n",
      "27\n",
      "28\n",
      "29\n",
      "30\n",
      "31\n",
      "32\n",
      "33\n",
      "34\n",
      "35\n",
      "36\n",
      "37\n",
      "38\n",
      "39\n",
      "40\n",
      "41\n",
      "42\n",
      "43\n",
      "44\n",
      "45\n",
      "46\n",
      "47\n",
      "48\n",
      "49\n",
      "50\n",
      "51\n",
      "52\n",
      "53\n",
      "54\n",
      "55\n",
      "56\n",
      "57\n",
      "58\n",
      "59\n",
      "60\n",
      "61\n",
      "62\n",
      "63\n",
      "64\n",
      "65\n",
      "66\n",
      "67\n",
      "68\n",
      "69\n",
      "70\n",
      "71\n",
      "72\n",
      "73\n",
      "74\n",
      "75\n",
      "76\n",
      "77\n",
      "78\n",
      "79\n",
      "80\n",
      "81\n",
      "82\n",
      "83\n",
      "84\n",
      "85\n",
      "86\n",
      "87\n",
      "88\n",
      "89\n",
      "90\n",
      "91\n",
      "92\n",
      "93\n",
      "94\n",
      "95\n"
     ]
    }
   ],
   "source": [
    "for kk, slicedict in filenames.iterrows():\n",
    "    print(kk)\n",
    "    sample = read_slice_with_annotations(slicedict)"
   ]
  },
  {
   "cell_type": "markdown",
   "metadata": {},
   "source": [
    "### sanity check: contour vs mask"
   ]
  },
  {
   "cell_type": "code",
   "execution_count": 16,
   "metadata": {},
   "outputs": [
    {
     "data": {
      "text/plain": [
       "[<matplotlib.lines.Line2D at 0x11e7dca58>]"
      ]
     },
     "execution_count": 16,
     "metadata": {},
     "output_type": "execute_result"
    },
    {
     "data": {
      "image/png": "[encoded data removed]",
      "text/plain": [
       "<Figure size 432x288 with 1 Axes>"
      ]
     },
     "metadata": {
      "needs_background": "light"
     },
     "output_type": "display_data"
    }
   ],
   "source": [
    "contour = np.asarray(sample['icontour'])\n",
    "\n",
    "plt.imshow(sample['imask'], cmap='gray')\n",
    "plt.plot(contour[:,0], contour[:,1], 'r', lw=2)"
   ]
  },
  {
   "cell_type": "code",
   "execution_count": null,
   "metadata": {},
   "outputs": [],
   "source": []
  },
  {
   "cell_type": "code",
   "execution_count": 17,
   "metadata": {},
   "outputs": [],
   "source": [
    "# def list_dir_to_series(dirname, parser, series_name=None):\n",
    "#     if series_name is None:\n",
    "#         series_name = os.path.basename(os.path.dirname(dirname))\n",
    "    \n",
    "#     ser = pd.Series(os.listdir(dirname))\n",
    "#     ser.index = ser.map(parser).tolist()\n",
    "#     ser.name = series_name\n",
    "#     return ser\n",
    "    \n",
    "# def match_directories(dir_parser_tuples):\n",
    "#     dir_lists = []\n",
    "#     for dirname, filename_parser in dir_parser_tuples:\n",
    "        \n",
    "#         filenames = list_dir_to_series(dirname, filename_parser, series_name=None)\n",
    "#         filenames = filenames.map(lambda x: os.path.join(dirname, x))\n",
    "\n",
    "#         dir_lists.append(filenames)\n",
    "    \n",
    "#     df_names = pd.concat(dir_lists, axis=1)\n",
    "#     df_names = df_names.dropna()#.reset_index()\n",
    "# #     df_names['patient_id']\n",
    "#     return df_names"
   ]
  },
  {
   "cell_type": "code",
   "execution_count": 18,
   "metadata": {},
   "outputs": [],
   "source": [
    "# def read_slice_with_annotations_dima(slicedict):\n",
    "#     dcm = pydicom.dcmread(slicedict['dicoms'])\n",
    "\n",
    "#     contour = pd.read_csv(slicedict['i-contours'], \n",
    "#                 header=None,# names=['x','y'],\n",
    "#                 delim_whitespace=True, ).values\n",
    "\n",
    "#     return {'dcm':dcm.pixel_array, \n",
    "#             'icontour':create_binary_mask(contour, dcm)}\n",
    "\n",
    "# def parse_contour_name(fn_contour):\n",
    "#     matches = re.match('IM-[\\d]+-([\\d]+)-[a-z]contour-manual.txt', fn_contour)\n",
    "#     if matches is not None:\n",
    "#         slice_num = matches.groups()[0]\n",
    "#         slice_num = int(slice_num)\n",
    "#         return slice_num\n",
    "#     else:\n",
    "#         warn(f'unrecognized file:\\t{fn_icontour}')\n",
    "#         return None"
   ]
  },
  {
   "cell_type": "code",
   "execution_count": 19,
   "metadata": {},
   "outputs": [],
   "source": [
    "# def create_binary_mask(contour, shape):\n",
    "#     if isinstance(shape, pydicom.dataset.FileDataset):\n",
    "#         shape = dcm.pixel_array.shape\n",
    "\n",
    "#     mask = np.zeros(shape, dtype='uint8')\n",
    "#     mask = cv2.fillPoly(mask, [contour.astype(np.int32)], (1))\n",
    "#     return mask"
   ]
  }
 ],
 "metadata": {
  "kernelspec": {
   "display_name": "py3.7:radiology",
   "language": "python",
   "name": "radiology"
  },
  "language_info": {
   "codemirror_mode": {
    "name": "ipython",
    "version": 3
   },
   "file_extension": ".py",
   "mimetype": "text/x-python",
   "name": "python",
   "nbconvert_exporter": "python",
   "pygments_lexer": "ipython3",
   "version": "3.7.3"
  }
 },
 "nbformat": 4,
 "nbformat_minor": 2
}
