{
 "cells": [
  {
   "cell_type": "code",
   "execution_count": 1,
   "metadata": {},
   "outputs": [],
   "source": [
    "import os\n",
    "import numpy as np\n",
    "import pydicom\n",
    "import pandas as pd\n",
    "import re\n",
    "from warnings import warn\n",
    "import parsing\n",
    "from task1 import get_slice_set, read_slice_with_annotations\n",
    "# from torch.utils.data import Dataset, DataLoader\n",
    "\n",
    "from PIL import Image"
   ]
  },
  {
   "cell_type": "code",
   "execution_count": 2,
   "metadata": {},
   "outputs": [],
   "source": [
    "from task2 import HeartDataset\n",
    "from task4 import crop, crop_roi\n",
    "from task4 import threshold_otsu_histogram, circle"
   ]
  },
  {
   "cell_type": "code",
   "execution_count": 3,
   "metadata": {},
   "outputs": [],
   "source": [
    "import cv2\n",
    "import seaborn as sns\n",
    "import matplotlib.pyplot as plt\n",
    "%matplotlib inline"
   ]
  },
  {
   "cell_type": "code",
   "execution_count": 4,
   "metadata": {},
   "outputs": [
    {
     "name": "stdout",
     "output_type": "stream",
     "text": [
      "5 series parsed\n",
      "46 files parsed\n"
     ]
    },
    {
     "name": "stderr",
     "output_type": "stream",
     "text": [
      "/Users/dlituiev/repos/assigments/task1.py:108: UserWarning: some dicom slices are missing: 9 matches out of 18 contours\n",
      "  f'matches out of {filenames_i_contour.shape[0]} contours')\n",
      "/Users/dlituiev/repos/assigments/task1.py:108: UserWarning: some dicom slices are missing: 10 matches out of 20 contours\n",
      "  f'matches out of {filenames_i_contour.shape[0]} contours')\n",
      "/Users/dlituiev/repos/assigments/task1.py:108: UserWarning: some dicom slices are missing: 9 matches out of 22 contours\n",
      "  f'matches out of {filenames_i_contour.shape[0]} contours')\n"
     ]
    }
   ],
   "source": [
    "dir_data = 'final_data'\n",
    "fn_link = f'{dir_data}/link.csv'\n",
    "\n",
    "metadata = pd.read_csv(fn_link)\n",
    "print( f'{metadata.shape[0]} series parsed')\n",
    "\n",
    "filenames = get_slice_set(metadata, dir_data, o_contours=True, join='inner')\n",
    "print( f'{filenames.shape[0]} files parsed')"
   ]
  },
  {
   "cell_type": "markdown",
   "metadata": {},
   "source": [
    "### Exclude files with wrong o-contours"
   ]
  },
  {
   "cell_type": "code",
   "execution_count": 5,
   "metadata": {},
   "outputs": [
    {
     "name": "stdout",
     "output_type": "stream",
     "text": [
      "37 files remaining\n"
     ]
    }
   ],
   "source": [
    "filenames = filenames[filenames.original_id != 'SC-HF-I-6']\n",
    "print('{} files remaining'.format(filenames.shape[0]))"
   ]
  },
  {
   "cell_type": "code",
   "execution_count": 6,
   "metadata": {},
   "outputs": [
    {
     "data": {
      "text/plain": [
       "(28, 9)"
      ]
     },
     "execution_count": 6,
     "metadata": {},
     "output_type": "execute_result"
    }
   ],
   "source": [
    "filenames_train = filenames[filenames.original_id != 'SC-HF-I-1']\n",
    "filenames_val = filenames[filenames.original_id == 'SC-HF-I-1']\n",
    "hdset_train = HeartDataset(filenames_train, with_contour=True)\n",
    "hdset_val = HeartDataset(filenames_val, with_contour=True)\n",
    "len(hdset_train), len(hdset_val)"
   ]
  },
  {
   "cell_type": "code",
   "execution_count": 7,
   "metadata": {},
   "outputs": [
    {
     "data": {
      "text/plain": [
       "37"
      ]
     },
     "execution_count": 7,
     "metadata": {},
     "output_type": "execute_result"
    }
   ],
   "source": [
    "hdset = hdset_train + hdset_val\n",
    "len(hdset)"
   ]
  },
  {
   "cell_type": "code",
   "execution_count": 8,
   "metadata": {},
   "outputs": [],
   "source": [
    "# sample\n"
   ]
  },
  {
   "cell_type": "code",
   "execution_count": 9,
   "metadata": {},
   "outputs": [
    {
     "name": "stderr",
     "output_type": "stream",
     "text": [
      "/Applications/anaconda3/envs/radiology/lib/python3.7/site-packages/ipykernel_launcher.py:4: SettingWithCopyWarning: \n",
      "A value is trying to be set on a copy of a slice from a DataFrame\n",
      "\n",
      "See the caveats in the documentation: http://pandas.pydata.org/pandas-docs/stable/indexing.html#indexing-view-versus-copy\n",
      "  after removing the cwd from sys.path.\n",
      "/Applications/anaconda3/envs/radiology/lib/python3.7/site-packages/pandas/core/series.py:1015: SettingWithCopyWarning: \n",
      "A value is trying to be set on a copy of a slice from a DataFrame\n",
      "\n",
      "See the caveats in the documentation: http://pandas.pydata.org/pandas-docs/stable/indexing.html#indexing-view-versus-copy\n",
      "  self.loc[key] = value\n",
      "/Applications/anaconda3/envs/radiology/lib/python3.7/site-packages/pandas/core/indexing.py:190: SettingWithCopyWarning: \n",
      "A value is trying to be set on a copy of a slice from a DataFrame\n",
      "\n",
      "See the caveats in the documentation: http://pandas.pydata.org/pandas-docs/stable/indexing.html#indexing-view-versus-copy\n",
      "  self._setitem_with_indexer(indexer, value)\n"
     ]
    }
   ],
   "source": [
    "hdset.filenames['width'] = 0\n",
    "hdset.filenames['height'] = 0\n",
    "for ii, sample in enumerate(hdset):\n",
    "    hdset.filenames.iloc[ii]['i_out_of_o'] = ((sample['imask'] ^ sample['omask']) & sample['imask']).sum()\n",
    "    \n",
    "    bbox = cv2.boundingRect(np.asarray(sample['ocontour'], dtype=int))\n",
    "    hdset.filenames['width'].iloc[ii]= bbox[2]\n",
    "    hdset.filenames['height'].iloc[ii] = bbox[3]"
   ]
  },
  {
   "cell_type": "code",
   "execution_count": 10,
   "metadata": {},
   "outputs": [
    {
     "data": {
      "text/plain": [
       "<matplotlib.collections.PathCollection at 0x1357f4940>"
      ]
     },
     "execution_count": 10,
     "metadata": {},
     "output_type": "execute_result"
    },
    {
     "data": {
      "image/png": "[encoded data removed]",
      "text/plain": [
       "<Figure size 432x288 with 1 Axes>"
      ]
     },
     "metadata": {
      "needs_background": "light"
     },
     "output_type": "display_data"
    }
   ],
   "source": [
    "plt.scatter(hdset.filenames.width, hdset.filenames.height)"
   ]
  },
  {
   "cell_type": "code",
   "execution_count": null,
   "metadata": {},
   "outputs": [],
   "source": []
  },
  {
   "cell_type": "code",
   "execution_count": 11,
   "metadata": {},
   "outputs": [
    {
     "data": {
      "text/plain": [
       "array([[0, 0, 0, ..., 0, 0, 0],\n",
       "       [0, 0, 0, ..., 0, 0, 0],\n",
       "       [0, 0, 0, ..., 0, 0, 0],\n",
       "       ...,\n",
       "       [0, 0, 0, ..., 0, 0, 0],\n",
       "       [0, 0, 0, ..., 0, 0, 0],\n",
       "       [0, 0, 0, ..., 0, 0, 0]], dtype=int16)"
      ]
     },
     "execution_count": 11,
     "metadata": {},
     "output_type": "execute_result"
    }
   ],
   "source": [
    "sample['image']"
   ]
  },
  {
   "cell_type": "code",
   "execution_count": 12,
   "metadata": {},
   "outputs": [],
   "source": [
    "# cv2.getRectSubPix(sample['image'].astype(np.uint8), bbox[-2:], (bbox[0]//2, bbox[1]//2))\n",
    "height = width = 72"
   ]
  },
  {
   "cell_type": "code",
   "execution_count": 13,
   "metadata": {},
   "outputs": [
    {
     "data": {
      "text/plain": [
       "<matplotlib.image.AxesImage at 0x1359048d0>"
      ]
     },
     "execution_count": 13,
     "metadata": {},
     "output_type": "execute_result"
    },
    {
     "data": {
      "image/png": "[encoded data removed]",
      "text/plain": [
       "<Figure size 432x288 with 1 Axes>"
      ]
     },
     "metadata": {
      "needs_background": "light"
     },
     "output_type": "display_data"
    }
   ],
   "source": [
    "x0, y0, w, h = bbox\n",
    "xc = x0 + w//2\n",
    "yc = y0 + h//2\n",
    "\n",
    "img = Image.fromarray(sample['image'])\n",
    "plt.imshow(img.crop((x0, y0, x0+w, y0+h)))"
   ]
  },
  {
   "cell_type": "code",
   "execution_count": 14,
   "metadata": {},
   "outputs": [
    {
     "data": {
      "text/plain": [
       "<matplotlib.image.AxesImage at 0x135834e80>"
      ]
     },
     "execution_count": 14,
     "metadata": {},
     "output_type": "execute_result"
    },
    {
     "data": {
      "image/png": "[encoded data removed]",
      "text/plain": [
       "<Figure size 432x288 with 1 Axes>"
      ]
     },
     "metadata": {
      "needs_background": "light"
     },
     "output_type": "display_data"
    }
   ],
   "source": [
    "x0, y0, w, h = bbox\n",
    "xc = x0 + w//2\n",
    "yc = y0 + h//2\n",
    "\n",
    "img = Image.fromarray(sample['image'])\n",
    "plt.imshow(img.crop((xc - width//2, yc - height//2,\n",
    "                     xc + width//2, yc + height//2,)))"
   ]
  },
  {
   "cell_type": "code",
   "execution_count": 15,
   "metadata": {},
   "outputs": [],
   "source": [
    "def get_crop_bbox_pil(ocontour, width, height):\n",
    "    bbox = cv2.boundingRect(np.asarray(ocontour , dtype=int))\n",
    "    x0, y0, w, h = bbox\n",
    "    xc = x0 + w//2\n",
    "    yc = y0 + h//2\n",
    "    crop_bbox = (xc - width//2, yc - height//2,\n",
    "                 xc + width//2, yc + height//2,)\n",
    "    return crop_bbox\n"
   ]
  },
  {
   "cell_type": "code",
   "execution_count": 16,
   "metadata": {},
   "outputs": [],
   "source": [
    "def get_crop_bbox(ocontour, width, height):\n",
    "    bbox = cv2.boundingRect(np.asarray(ocontour , dtype=int))\n",
    "    bbox = expand_bbox(bbox, width, height)\n",
    "    x0, y0, w, h = bbox\n",
    "    xc = x0 + w//2\n",
    "    yc = y0 + h//2\n",
    "    crop_bbox = (xc - width//2, yc - height//2,\n",
    "                 width, height)\n",
    "    return crop_bbox"
   ]
  },
  {
   "cell_type": "code",
   "execution_count": 17,
   "metadata": {},
   "outputs": [],
   "source": [
    "def expand_bbox(bbox, width, height):\n",
    "    x0, y0, w, h = bbox\n",
    "    xc = x0 + w//2\n",
    "    yc = y0 + h//2\n",
    "    crop_bbox = (xc - width//2, yc - height//2,\n",
    "                 width, height)\n",
    "    return crop_bbox"
   ]
  },
  {
   "cell_type": "code",
   "execution_count": 18,
   "metadata": {},
   "outputs": [
    {
     "data": {
      "text/plain": [
       "SC-HF-I-4    10\n",
       "SC-HF-I-1     9\n",
       "SC-HF-I-2     9\n",
       "SC-HF-I-5     9\n",
       "Name: original_id, dtype: int64"
      ]
     },
     "execution_count": 18,
     "metadata": {},
     "output_type": "execute_result"
    }
   ],
   "source": [
    "bbox\n",
    "hdset.filenames.original_id.value_counts()"
   ]
  },
  {
   "cell_type": "code",
   "execution_count": 19,
   "metadata": {},
   "outputs": [],
   "source": [
    "# tiny_imgs = []\n",
    "# tiny_imasks = []\n",
    "# height = width = 80\n",
    "\n",
    "# for ii, sample in enumerate(hdset):\n",
    "#     hdset.filenames.loc[ii, 'i_out_of_o'] = ((sample['imask'] ^ sample['omask']) & sample['imask']).sum()\n",
    "    \n",
    "#     bbox = cv2.boundingRect(np.asarray(sample['ocontour'], dtype=int))\n",
    "#     hdset.filenames.loc[ii, 'width'] = bbox[2]\n",
    "#     hdset.filenames.loc[ii, 'height'] = bbox[3]\n",
    "    \n",
    "#     large_bbox = expand_bbox(bbox, height, width)\n",
    "#     tiny_img = (crop(large_bbox, sample['omask'])*\n",
    "#             crop(large_bbox, sample['image']))\n",
    "#     tiny_imgs.append(tiny_img)\n",
    "#     tiny_imasks.append( crop(large_bbox,sample['imask']) )\n",
    "    \n",
    "# tiny_imasks = np.stack(tiny_imasks)\n",
    "# tiny_imgs = np.stack(tiny_imgs)"
   ]
  },
  {
   "cell_type": "code",
   "execution_count": 20,
   "metadata": {},
   "outputs": [],
   "source": [
    "# hdset_val.filenames"
   ]
  },
  {
   "cell_type": "code",
   "execution_count": 21,
   "metadata": {},
   "outputs": [],
   "source": [
    "# tiny_imasks.shape, tiny_imgs.shape"
   ]
  },
  {
   "cell_type": "code",
   "execution_count": 22,
   "metadata": {},
   "outputs": [],
   "source": [
    "hdset.filenames['val_set'] = hdset.filenames.original_id == 'SC-HF-I-1'"
   ]
  },
  {
   "cell_type": "code",
   "execution_count": 23,
   "metadata": {},
   "outputs": [],
   "source": [
    "# tiny_imasks[hdset.filenames['val_set']]"
   ]
  },
  {
   "cell_type": "code",
   "execution_count": 24,
   "metadata": {},
   "outputs": [
    {
     "name": "stderr",
     "output_type": "stream",
     "text": [
      "Using TensorFlow backend.\n"
     ]
    }
   ],
   "source": [
    "import keras\n",
    "from keras import backend as K\n",
    "from keras.models import Model, load_model"
   ]
  },
  {
   "cell_type": "code",
   "execution_count": null,
   "metadata": {},
   "outputs": [],
   "source": []
  },
  {
   "cell_type": "code",
   "execution_count": 25,
   "metadata": {},
   "outputs": [],
   "source": [
    "def dice_coef_binary(y_true, y_pred, smooth=1e-7):\n",
    "    '''\n",
    "    Dice coefficient for 2 categories. Ignores background pixel label 0\n",
    "    Pass to model as metric during compile statement\n",
    "    '''\n",
    "    y_true_f = K.flatten((K.cast(y_true, 'int32')))\n",
    "    y_pred_f = K.flatten(y_pred)\n",
    "    intersect = K.sum(y_true_f * y_pred_f, axis=-1)\n",
    "    denom = K.sum(y_true_f + y_pred_f, axis=-1)\n",
    "    return K.mean((2. * intersect / (denom + smooth)))\n",
    "\n",
    "\n",
    "def dice_coef_binary_loss(y_true, y_pred):\n",
    "    '''\n",
    "    Dice loss to minimize. Pass to model as loss during compile statement\n",
    "    '''\n",
    "    return 1 - dice_coef_binary(y_true, y_pred)"
   ]
  },
  {
   "cell_type": "code",
   "execution_count": 26,
   "metadata": {},
   "outputs": [],
   "source": [
    "import imgaug.augmenters as iaa\n",
    "import imgaug as ia\n",
    "# iaa.seed(2)\n",
    "\n",
    "seq = iaa.Sequential([\n",
    "    iaa.CoarseDropout(0.1, size_percent=0.2),\n",
    "    iaa.ElasticTransformation(alpha=10, sigma=1),\n",
    "    iaa.Affine(\n",
    "            scale=1.2,\n",
    "            translate_percent=(5),\n",
    "            translate_px=None,\n",
    "            rotate=(-30, 30),\n",
    "            shear=(5.0),\n",
    "        ),\n",
    "])"
   ]
  },
  {
   "cell_type": "code",
   "execution_count": 27,
   "metadata": {},
   "outputs": [],
   "source": [
    "# from keras.preprocessing.image import ImageDataGenerator\n",
    "from torch.utils.data import Dataset, DataLoader\n",
    "from task2 import np_collate"
   ]
  },
  {
   "cell_type": "code",
   "execution_count": 28,
   "metadata": {},
   "outputs": [],
   "source": [
    "class TinyImgDataset(Dataset):\n",
    "    \"\"\"An class representing cropped images on o-mask with i-mask labels\n",
    "    \"\"\"\n",
    "    def __init__(self, other, width=80, height=80,):\n",
    "        self.filenames = other.filenames.reset_index(drop=True)\n",
    "#         self.with_contour = with_contour\n",
    "        self.height = height\n",
    "        self.width = width\n",
    "        self.images = []\n",
    "        self.masks = []\n",
    "        self.contours = []\n",
    "        for ii, sample in enumerate(other):\n",
    "            self.filenames.loc[ii, 'i_out_of_o'] = ((sample['imask'] ^ sample['omask']) & sample['imask']).sum()\n",
    "\n",
    "            bbox = cv2.boundingRect(np.asarray(sample['ocontour'], dtype=int))\n",
    "            self.filenames.loc[ii, 'width'] = bbox[2]\n",
    "            self.filenames.loc[ii, 'height'] = bbox[3]\n",
    "\n",
    "            large_bbox = expand_bbox(bbox, self.height, self.width)\n",
    "            tiny_img = (crop(large_bbox, sample['omask'])*\n",
    "                    crop(large_bbox, sample['image']))\n",
    "            \n",
    "            tiny_contour = crop_roi(large_bbox, sample['icontour'])\n",
    "            \n",
    "            self.images.append(tiny_img)\n",
    "            self.masks.append( crop(large_bbox,sample['imask']) )\n",
    "            self.contours.append(tiny_contour)\n",
    "\n",
    "        self.masks = np.stack(self.masks)\n",
    "        self.images = np.stack(self.images)\n",
    "\n",
    "    def __getitem__(self, index):\n",
    "        return self.images[index], self.masks[index], self.contours[index]\n",
    "#         slicedict = self.filenames.iloc[index]\n",
    "#         sample = read_slice_with_annotations(slicedict,\n",
    "#                                              with_contour=self.with_contour)\n",
    "        return sample\n",
    "\n",
    "    def __len__(self):\n",
    "        return len(self.filenames)\n",
    "\n",
    "#     def __add__(self, other):\n",
    "#         return HeartDataset(pd.concat[self.filenames, other.filenames])\n"
   ]
  },
  {
   "cell_type": "code",
   "execution_count": 29,
   "metadata": {},
   "outputs": [],
   "source": [
    "# hdset_train[0]\n",
    "hdset_train.filenames = hdset_train.filenames[~hdset_train.filenames.dicoms.isnull()]"
   ]
  },
  {
   "cell_type": "code",
   "execution_count": 30,
   "metadata": {},
   "outputs": [],
   "source": [
    "timgset_train = TinyImgDataset(hdset_train)"
   ]
  },
  {
   "cell_type": "code",
   "execution_count": 31,
   "metadata": {},
   "outputs": [],
   "source": [
    "timgset_val = TinyImgDataset(hdset_val)"
   ]
  },
  {
   "cell_type": "code",
   "execution_count": 32,
   "metadata": {},
   "outputs": [],
   "source": [
    "dloader_train = DataLoader(timgset_train, collate_fn=np_collate, \n",
    "                           batch_size=4, shuffle=True)"
   ]
  },
  {
   "cell_type": "code",
   "execution_count": 33,
   "metadata": {},
   "outputs": [
    {
     "data": {
      "text/plain": [
       "7"
      ]
     },
     "execution_count": 33,
     "metadata": {},
     "output_type": "execute_result"
    }
   ],
   "source": [
    "len(dloader_train)"
   ]
  },
  {
   "cell_type": "code",
   "execution_count": 34,
   "metadata": {},
   "outputs": [],
   "source": [
    "def batchgen(dloader):\n",
    "    while True:\n",
    "        for img, msk, _ in dloader:\n",
    "            bg = seq(images=img, \n",
    "                     segmentation_maps=msk,\n",
    "                    return_batch=True,\n",
    "                    )\n",
    "            yield np.stack([bg.images_aug]*3, axis=-1), bg.segmentation_maps_aug[..., np.newaxis].astype(np.float32)"
   ]
  },
  {
   "cell_type": "code",
   "execution_count": 35,
   "metadata": {},
   "outputs": [],
   "source": [
    "epochs = 20\n",
    "\n",
    "img_val = np.stack([np.stack([x[0] for x in timgset_val])]*3, axis=-1)\n",
    "msk_val = np.stack([x[1] for x in timgset_val])[...,np.newaxis].astype(np.float32)"
   ]
  },
  {
   "cell_type": "code",
   "execution_count": 61,
   "metadata": {},
   "outputs": [
    {
     "data": {
      "text/plain": [
       "slice_id                                                     139\n",
       "dicoms                      final_data/dicoms/SCD0000101/139.dcm\n",
       "i-contours     final_data/contourfiles/SC-HF-I-1/i-contours/I...\n",
       "o-contours     final_data/contourfiles/SC-HF-I-1/o-contours/I...\n",
       "original_id                                            SC-HF-I-1\n",
       "i_out_of_o                                                     0\n",
       "width                                                         54\n",
       "height                                                        54\n",
       "Name: 0, dtype: object"
      ]
     },
     "execution_count": 61,
     "metadata": {},
     "output_type": "execute_result"
    }
   ],
   "source": [
    "timgset_val.filenames.iloc[0]"
   ]
  },
  {
   "cell_type": "code",
   "execution_count": 36,
   "metadata": {},
   "outputs": [],
   "source": [
    "# unet.fit_generator(batchgen(dloader_train),\n",
    "#         validation_data=(img_val, msk_val),\n",
    "#         epochs=epochs,\n",
    "#         steps_per_epoch=len(dloader_train),\n",
    "# )\n",
    "# unet.save('unet.h5')"
   ]
  },
  {
   "cell_type": "code",
   "execution_count": 37,
   "metadata": {},
   "outputs": [
    {
     "name": "stdout",
     "output_type": "stream",
     "text": [
      "WARNING:tensorflow:From /Applications/anaconda3/envs/radiology/lib/python3.7/site-packages/tensorflow/python/framework/op_def_library.py:263: colocate_with (from tensorflow.python.framework.ops) is deprecated and will be removed in a future version.\n",
      "Instructions for updating:\n",
      "Colocations handled automatically by placer.\n",
      "WARNING:tensorflow:From /Applications/anaconda3/envs/radiology/lib/python3.7/site-packages/tensorflow/python/ops/math_ops.py:3066: to_int32 (from tensorflow.python.ops.math_ops) is deprecated and will be removed in a future version.\n",
      "Instructions for updating:\n",
      "Use tf.cast instead.\n"
     ]
    }
   ],
   "source": [
    "unet = load_model('unet.h5')"
   ]
  },
  {
   "cell_type": "code",
   "execution_count": null,
   "metadata": {},
   "outputs": [],
   "source": []
  },
  {
   "cell_type": "code",
   "execution_count": 38,
   "metadata": {},
   "outputs": [],
   "source": [
    "prediction_val = unet.predict(img_val)"
   ]
  },
  {
   "cell_type": "code",
   "execution_count": 39,
   "metadata": {},
   "outputs": [
    {
     "data": {
      "text/plain": [
       "(9, 80, 80, 1)"
      ]
     },
     "execution_count": 39,
     "metadata": {},
     "output_type": "execute_result"
    }
   ],
   "source": [
    "prediction_val.shape"
   ]
  },
  {
   "cell_type": "code",
   "execution_count": 72,
   "metadata": {},
   "outputs": [
    {
     "data": {
      "text/plain": [
       "<module 'task4' from '/Users/dlituiev/repos/assigments/task4.py'>"
      ]
     },
     "execution_count": 72,
     "metadata": {},
     "output_type": "execute_result"
    }
   ],
   "source": [
    "from task4 import intersection_over_union\n",
    "from importlib import reload\n",
    "import task4\n",
    "reload(task4)"
   ]
  },
  {
   "cell_type": "code",
   "execution_count": 73,
   "metadata": {},
   "outputs": [],
   "source": [
    "contour_pred = task4.find_longest_contour(prediction_val[ii][...,0]>0.5)"
   ]
  },
  {
   "cell_type": "code",
   "execution_count": 74,
   "metadata": {},
   "outputs": [
    {
     "data": {
      "text/plain": [
       "(90, 2)"
      ]
     },
     "execution_count": 74,
     "metadata": {},
     "output_type": "execute_result"
    }
   ],
   "source": [
    "contour_pred.shape"
   ]
  },
  {
   "cell_type": "code",
   "execution_count": 75,
   "metadata": {},
   "outputs": [
    {
     "data": {
      "image/png": "[encoded data removed]",
      "text/plain": [
       "<Figure size 1152x360 with 4 Axes>"
      ]
     },
     "metadata": {
      "needs_background": "light"
     },
     "output_type": "display_data"
    }
   ],
   "source": [
    "ii = 0\n",
    "fig, axs = plt.subplots(1,4, figsize=(16, 5))\n",
    "img, msk, contour = timgset_val[ii]\n",
    "axs[0].imshow(img, cmap='magma')\n",
    "axs[0].plot(contour[:,0], contour[:,1], c='lime')\n",
    "axs[0].plot(contour_pred[:,0], contour_pred[:,1], c='cyan')\n",
    "axs[1].set_title('prediction score');\n",
    "\n",
    "axs[1].imshow(prediction_val[ii][...,0], cmap='magma')\n",
    "axs[1].plot(contour[:,0], contour[:,1], c='lime')\n",
    "axs[1].set_title('prediction score');\n",
    "\n",
    "axs[2].imshow(prediction_val[ii][...,0]>0.5, cmap='magma')\n",
    "axs[2].plot(contour[:,0], contour[:,1], c='lime')\n",
    "axs[2].set_title('thresholded prediction');\n",
    "\n",
    "axs[3].imshow(msk, cmap='magma')\n",
    "plt.savefig('closeup_dl.png',)"
   ]
  }
 ],
 "metadata": {
  "kernelspec": {
   "display_name": "py3.7:radiology",
   "language": "python",
   "name": "radiology"
  },
  "language_info": {
   "codemirror_mode": {
    "name": "ipython",
    "version": 3
   },
   "file_extension": ".py",
   "mimetype": "text/x-python",
   "name": "python",
   "nbconvert_exporter": "python",
   "pygments_lexer": "ipython3",
   "version": "3.7.3"
  }
 },
 "nbformat": 4,
 "nbformat_minor": 2
}
